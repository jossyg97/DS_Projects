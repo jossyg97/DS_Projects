{
 "cells": [
  {
   "cell_type": "markdown",
   "id": "7d5da293",
   "metadata": {},
   "source": [
    "# Kaggle Titanic Project"
   ]
  },
  {
   "cell_type": "markdown",
   "id": "7013ee4a",
   "metadata": {},
   "source": [
    "## Objective\n",
    "---\n",
    "\n",
    "You'll be competing in Kaggle's [Titanic - Machine Learning from Disaster](https://www.kaggle.com/c/titanic) Competition. You can download the datasets, and read the requirements of the competition using the associated link.<br>\n",
    "\n",
    "### Requirements\n",
    "---\n",
    "* **Submissions:**\n",
    "    1. Screenshot of conforimation of submission to Kaggle\n",
    "    2. Your completed notebook, following the associated outline as necessary below.\n",
    "        * Clearly structure your notebook, try to walk the reader along your experiment by making use           of clean code, efficient use of outputs, effective visualizations, and basic Markdown                 syntax to document your code."
   ]
  },
  {
   "cell_type": "markdown",
   "id": "c0aaa8e6",
   "metadata": {},
   "source": [
    "## Example\n",
    "---\n",
    "<br>\n"
   ]
  },
  {
   "cell_type": "markdown",
   "id": "b82d33da",
   "metadata": {},
   "source": [
    "## Title\n",
    "#### Author"
   ]
  },
  {
   "cell_type": "markdown",
   "id": "5a3a0672",
   "metadata": {},
   "source": [
    "### Problem Definition\n",
    "Clearly and brefiely describe the question you are trying to answer or idea you are exploring."
   ]
  },
  {
   "cell_type": "markdown",
   "id": "bff67582",
   "metadata": {},
   "source": [
    "### Sourcing Data\n",
    "Quickly describe the content of the data, citing the source, and explaining why you believe this dataset can be used to solve your problem."
   ]
  },
  {
   "cell_type": "code",
   "execution_count": null,
   "id": "036d8a8f",
   "metadata": {},
   "outputs": [],
   "source": [
    "# Load the data from its source format into a pandas dataframe"
   ]
  },
  {
   "cell_type": "code",
   "execution_count": null,
   "id": "4d814388",
   "metadata": {},
   "outputs": [],
   "source": [
    "# Quick overview of data using pandas methods"
   ]
  },
  {
   "cell_type": "markdown",
   "id": "23711910",
   "metadata": {},
   "source": [
    "Ensuring anything worth noting is captured in text via Markdown cells after the outputs."
   ]
  },
  {
   "cell_type": "markdown",
   "id": "7ffcc941",
   "metadata": {},
   "source": [
    "### Data Cleaning\n",
    "This section should contain all of your data cleaning. Document your approach in markdown as such:"
   ]
  },
  {
   "cell_type": "code",
   "execution_count": 1,
   "id": "a907259d",
   "metadata": {},
   "outputs": [],
   "source": [
    "# Show column(s) you're currently inspecting"
   ]
  },
  {
   "cell_type": "markdown",
   "id": "c7b8d26b",
   "metadata": {},
   "source": [
    "Explain technique you're going to implement to clean these datapoints."
   ]
  },
  {
   "cell_type": "code",
   "execution_count": null,
   "id": "027446e2",
   "metadata": {},
   "outputs": [],
   "source": [
    "# Execute cleaning"
   ]
  },
  {
   "cell_type": "markdown",
   "id": "272af69b",
   "metadata": {},
   "source": [
    "**ANY DROPPED COLUMNS REQUIRE AN EXPLANATION.**"
   ]
  },
  {
   "cell_type": "markdown",
   "id": "c1bd3c1d",
   "metadata": {},
   "source": [
    "### Exploratory Data Analysis\n",
    "This area should contain your visualizations as you seek to understand the relationships that exists within the data before running your linear regression algorithm."
   ]
  },
  {
   "cell_type": "markdown",
   "id": "95c29883",
   "metadata": {},
   "source": [
    "Express your curiosities in markdown, followed by your code to create the visualization that explores that curiosity."
   ]
  },
  {
   "cell_type": "code",
   "execution_count": 2,
   "id": "9beee8ed",
   "metadata": {},
   "outputs": [],
   "source": [
    "# Code for visualization"
   ]
  },
  {
   "cell_type": "markdown",
   "id": "8b9dbd9d",
   "metadata": {},
   "source": [
    "**EVERY VISUALIZATION REQUIRES AN ASSOCIATED DECSRIPTION** *(in addition to titles, axis labels, specified units of measurements, and legend if necessary.)*"
   ]
  },
  {
   "cell_type": "markdown",
   "id": "7fe95979",
   "metadata": {},
   "source": [
    "### Data Processing\n",
    "Here you prepare your data for training and testing. You'll select what predictors you want to include in your training and what you want to leave out, again providing an explanation. These can be varibales you've identified having little coorelation to your target variable."
   ]
  },
  {
   "cell_type": "code",
   "execution_count": null,
   "id": "152a6aa0",
   "metadata": {},
   "outputs": [],
   "source": [
    "# Preprocessing"
   ]
  },
  {
   "cell_type": "markdown",
   "id": "a5325a31",
   "metadata": {},
   "source": [
    "### ML Model\n",
    "Implementing a cross validation technique, train and test your model with you preprocessed data."
   ]
  },
  {
   "cell_type": "code",
   "execution_count": null,
   "id": "084f09dd",
   "metadata": {},
   "outputs": [],
   "source": [
    "# Cross validation and performance metrics"
   ]
  },
  {
   "cell_type": "markdown",
   "id": "e9c232f0",
   "metadata": {},
   "source": [
    "### Model Evaluation\n",
    "Using the metrics gathered when training and testing your model, visualize the performance of your model."
   ]
  },
  {
   "cell_type": "code",
   "execution_count": 3,
   "id": "4d2cd4aa",
   "metadata": {},
   "outputs": [],
   "source": [
    "# Model Evaluation Code"
   ]
  },
  {
   "cell_type": "markdown",
   "id": "966635f1",
   "metadata": {},
   "source": [
    "Provide context to the meaning of your visuals or any performance metrics derived."
   ]
  },
  {
   "cell_type": "markdown",
   "id": "d6450c6f",
   "metadata": {},
   "source": [
    "---\n",
    "<br>\n",
    "\n",
    "### Conclusion\n",
    "State your overall findings, being sure to mention any next steps you would take going forward, or anything you would do differently provided the time and resources."
   ]
  }
 ],
 "metadata": {
  "kernelspec": {
   "display_name": "Python 3 (ipykernel)",
   "language": "python",
   "name": "python3"
  },
  "language_info": {
   "codemirror_mode": {
    "name": "ipython",
    "version": 3
   },
   "file_extension": ".py",
   "mimetype": "text/x-python",
   "name": "python",
   "nbconvert_exporter": "python",
   "pygments_lexer": "ipython3",
   "version": "3.9.7"
  }
 },
 "nbformat": 4,
 "nbformat_minor": 5
}
